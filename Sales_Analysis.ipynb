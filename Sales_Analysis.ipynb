{
 "cells": [
  {
   "cell_type": "markdown",
   "metadata": {
    "id": "9dluvTm6-kMA"
   },
   "source": [
    "<p align = \"center\">\n",
    "<img src=\"https://academy.sdaia.gov.sa/assets/images/academy-logo.png\" align = \"center\" width=\"400\">\n",
    "</p>\n",
    "\n",
    "<p align = \"center\">\n",
    "<img src=\"https://upload.wikimedia.org/wikipedia/ar/9/96/%D8%B4%D8%B9%D8%A7%D8%B1_%D8%A3%D9%83%D8%A7%D8%AF%D9%8A%D9%85%D9%8A%D8%A9_%D8%B7%D9%88%D9%8A%D9%82.png\" align = \"center\" width=\"400\">\n",
    "</p>\n",
    "<div> </div>\n"
   ]
  },
  {
   "cell_type": "markdown",
   "metadata": {
    "id": "LunYYuzghTnU"
   },
   "source": [
    "# Project: Sales Analysis for AAL Clothing\n",
    "\n",
    "### Project Statement\n",
    "\n",
    "AAL is a household name in Australia, known for its clothing business since 2000. It caters to all groups— kids, women, men, and seniors. It has opened branches in many states in Australia, in metropolises and tier-1 and tier-2 cities.\n",
    "\n",
    "The business is booming, and the company is in an expansion mode. It wants to get an in-depth understanding of its sales so that it can make investment decisions. The CEO has tasked the Head of Sales and Marketing (S&M) of AAL to:\n",
    "\n",
    "1. Determine the states that are generating the highest revenues, and\n",
    "2. Formulate sales programs for states with lower revenues. The Head of S&M has approached you for the same\n",
    "\n",
    "Analyze the company’s sales data for the fourth quarter across Australia, and state by state and help the company make data-driven decisions for the coming year. Enclosed is the CSV (`AusApparalSales4thQrt2020.csv`) file that covers the said data.\n",
    "\n",
    "## Tasks\n",
    "\n",
    "As a data scientist, you must perform the following main steps on the enclosed data.\n",
    "1.\tData Wrangling\n",
    "2.\tData Analysis\n",
    "3.\tData Visualization and\n",
    "4.\tReport Generation\n",
    "\n",
    "### 1. Data Wrangling\n",
    "\n",
    "1. Data cleaning (ensure that there is no missing or incorrect data):\n",
    "    1. Duplicated rows\n",
    "    2. Invalid entries\n",
    "    3. Rename Cols & formatting\n",
    "    4. Data Type check\n",
    "1. Categorical data cleaning:\n",
    "    1. Check format different level to be all in same lower or upper case\n",
    "    2. Encoding\n",
    "    2. Missing\n",
    "1. Numeric data cleaning:\n",
    "    1. Missing\n",
    "    2. Check Logical values\n",
    "    3. Normalization\n",
    "\n",
    "### 2. Data Analysis\n",
    "\n",
    "1. Perform descriptive statistical analysis on the sales data, including mean, median, mode, range, quartilers, and standard deviation.\n",
    "1. Identify the groups and states that are generating the highest and lowest sales.\n",
    "1. Generate weekly, monthly, and quarterly reports for the analysis made.\n",
    "\n",
    "### 3. Data Visualization\n",
    "\n",
    "Use appropriate data visualization libraries to build a dashboard for the Head of S&M that includes:\n",
    "\n",
    "1. **State-wise sales** analysis for different groups (kids, women, men, and seniors)\n",
    "1. **Group-wise sales** analysis (kids, women, men, and seniors) across different states\n",
    "1. **Time-of-the-day** analysis: during which time of the day are sales the highest, and during which time are sales the lowest?  \n",
    "\n",
    "The dashboard must contain daily, weekly, monthly and quarterly charts.\n",
    "\n",
    "Note: **Seaborn** provides a variety of pre-built charts and plots, which can save time and effort.\n",
    "\n",
    "### 4. Report Generation\n",
    "\n",
    "* This Notebook shall be your \"report\".\n",
    "* Use markdown wisely to make it presentable.\n",
    "* The report should contain suitable graphs, plots and analysis reports."
   ]
  },
  {
   "cell_type": "markdown",
   "metadata": {
    "id": "oiyxyff9hTnd"
   },
   "source": [
    "# Importing the dataset :"
   ]
  },
  {
   "cell_type": "code",
   "execution_count": 1,
   "metadata": {
    "colab": {
     "base_uri": "https://localhost:8080/"
    },
    "id": "QitomdYxhTne",
    "outputId": "58e2034b-9b74-42f5-d9cd-82a407e007f4"
   },
   "outputs": [
    {
     "name": "stdout",
     "output_type": "stream",
     "text": [
      "             Date        Time State     Group  Unit  Sales\n",
      "0      1-Oct-2020     Morning    WA      Kids     8  20000\n",
      "1      1-Oct-2020     Morning    WA       Men     8  20000\n",
      "2      1-Oct-2020     Morning    WA     Women     4  10000\n",
      "3      1-Oct-2020     Morning    WA   Seniors    15  37500\n",
      "4      1-Oct-2020   Afternoon    WA      Kids     3   7500\n",
      "...           ...         ...   ...       ...   ...    ...\n",
      "7555  30-Dec-2020   Afternoon   TAS   Seniors    14  35000\n",
      "7556  30-Dec-2020     Evening   TAS      Kids    15  37500\n",
      "7557  30-Dec-2020     Evening   TAS       Men    15  37500\n",
      "7558  30-Dec-2020     Evening   TAS     Women    11  27500\n",
      "7559  30-Dec-2020     Evening   TAS   Seniors    13  32500\n",
      "\n",
      "[7560 rows x 6 columns]\n"
     ]
    }
   ],
   "source": [
    "import pandas as pd\n",
    "import numpy as np\n",
    "df = pd.read_csv ('AusApparalSales4thQrt2020.csv')\n",
    "print(df)"
   ]
  },
  {
   "cell_type": "markdown",
   "metadata": {
    "id": "zTmYdiR97hFA"
   },
   "source": [
    "## 1. Data Wrangling\n",
    "### 1-Data cleaning\n",
    "#### 1-Duplicated rows"
   ]
  },
  {
   "cell_type": "code",
   "execution_count": 2,
   "metadata": {
    "id": "UPEKZvjJqUJT"
   },
   "outputs": [],
   "source": [
    "df = df.drop_duplicates()"
   ]
  },
  {
   "cell_type": "markdown",
   "metadata": {
    "id": "y2TYg7Un7hFA"
   },
   "source": [
    "#### 2-Invalid entries"
   ]
  },
  {
   "cell_type": "code",
   "execution_count": 3,
   "metadata": {
    "colab": {
     "base_uri": "https://localhost:8080/"
    },
    "id": "VEI35RYPhrN5",
    "outputId": "f93602fc-c4e6-449a-9b4a-60d146307514"
   },
   "outputs": [
    {
     "name": "stdout",
     "output_type": "stream",
     "text": [
      "Date     0\n",
      "Time     0\n",
      "State    0\n",
      "Group    0\n",
      "Unit     0\n",
      "Sales    0\n",
      "dtype: int64\n"
     ]
    }
   ],
   "source": [
    "print(df.isnull().sum())\n",
    "df = df.dropna()  # drop rows with any missing values\n"
   ]
  },
  {
   "cell_type": "markdown",
   "metadata": {
    "id": "qHR3R4YZ7hFB"
   },
   "source": [
    "#### 3. Rename Cols & formatting"
   ]
  },
  {
   "cell_type": "code",
   "execution_count": 4,
   "metadata": {
    "colab": {
     "base_uri": "https://localhost:8080/",
     "height": 70
    },
    "id": "MwI8qgW87hFB",
    "outputId": "51d187e6-3691-4d0e-e122-675ed13117e9"
   },
   "outputs": [
    {
     "name": "stdout",
     "output_type": "stream",
     "text": [
      "New column names :\n"
     ]
    },
    {
     "data": {
      "text/html": [
       "<div>\n",
       "<style scoped>\n",
       "    .dataframe tbody tr th:only-of-type {\n",
       "        vertical-align: middle;\n",
       "    }\n",
       "\n",
       "    .dataframe tbody tr th {\n",
       "        vertical-align: top;\n",
       "    }\n",
       "\n",
       "    .dataframe thead th {\n",
       "        text-align: right;\n",
       "    }\n",
       "</style>\n",
       "<table border=\"1\" class=\"dataframe\">\n",
       "  <thead>\n",
       "    <tr style=\"text-align: right;\">\n",
       "      <th></th>\n",
       "      <th>OrderDate</th>\n",
       "      <th>OrderTime</th>\n",
       "      <th>Region</th>\n",
       "      <th>CustomerGroup</th>\n",
       "      <th>Quantity</th>\n",
       "      <th>SalesAmount</th>\n",
       "    </tr>\n",
       "  </thead>\n",
       "  <tbody>\n",
       "  </tbody>\n",
       "</table>\n",
       "</div>"
      ],
      "text/plain": [
       "Empty DataFrame\n",
       "Columns: [OrderDate, OrderTime, Region, CustomerGroup, Quantity, SalesAmount]\n",
       "Index: []"
      ]
     },
     "execution_count": 4,
     "metadata": {},
     "output_type": "execute_result"
    }
   ],
   "source": [
    "\n",
    "column_names= {'Date': 'OrderDate', 'Time': 'OrderTime', 'State': 'Region','Group':'CustomerGroup','Unit':'Quantity','Sales':'SalesAmount'}\n",
    "\n",
    "for current_name, new in column_names.items():\n",
    "    df = df.rename(columns={current_name: new})\n",
    "print ('New column names :')\n",
    "df.head(0)"
   ]
  },
  {
   "cell_type": "markdown",
   "metadata": {
    "id": "YJTTyOhj7hFC"
   },
   "source": [
    "#### 4. Data Type check"
   ]
  },
  {
   "cell_type": "code",
   "execution_count": 5,
   "metadata": {
    "id": "x3Heyzqt7hFC"
   },
   "outputs": [],
   "source": [
    "df['OrderDate'] = pd.to_datetime(df['OrderDate']).dt.date\n",
    "df['OrderTime'] = df['OrderTime'].astype(str)\n",
    "df['Region'] = df['Region'].astype(str)\n",
    "df['CustomerGroup'] = df['CustomerGroup'].astype(str)\n"
   ]
  },
  {
   "cell_type": "markdown",
   "metadata": {
    "id": "MF9ZyDbi7hFC"
   },
   "source": [
    "### 1. Categorical data cleaning:\n",
    "#### 1. Check format different level to be all in same lower or upper case"
   ]
  },
  {
   "cell_type": "code",
   "execution_count": 6,
   "metadata": {
    "colab": {
     "base_uri": "https://localhost:8080/",
     "height": 206
    },
    "id": "mU2193DU7hFC",
    "outputId": "63149d53-6cea-442b-b81d-56acaa77e9f3"
   },
   "outputs": [
    {
     "data": {
      "text/html": [
       "<div>\n",
       "<style scoped>\n",
       "    .dataframe tbody tr th:only-of-type {\n",
       "        vertical-align: middle;\n",
       "    }\n",
       "\n",
       "    .dataframe tbody tr th {\n",
       "        vertical-align: top;\n",
       "    }\n",
       "\n",
       "    .dataframe thead th {\n",
       "        text-align: right;\n",
       "    }\n",
       "</style>\n",
       "<table border=\"1\" class=\"dataframe\">\n",
       "  <thead>\n",
       "    <tr style=\"text-align: right;\">\n",
       "      <th></th>\n",
       "      <th>OrderDate</th>\n",
       "      <th>OrderTime</th>\n",
       "      <th>Region</th>\n",
       "      <th>CustomerGroup</th>\n",
       "      <th>Quantity</th>\n",
       "      <th>SalesAmount</th>\n",
       "    </tr>\n",
       "  </thead>\n",
       "  <tbody>\n",
       "    <tr>\n",
       "      <th>0</th>\n",
       "      <td>2020-10-01</td>\n",
       "      <td>morning</td>\n",
       "      <td>wa</td>\n",
       "      <td>kids</td>\n",
       "      <td>8</td>\n",
       "      <td>20000</td>\n",
       "    </tr>\n",
       "    <tr>\n",
       "      <th>1</th>\n",
       "      <td>2020-10-01</td>\n",
       "      <td>morning</td>\n",
       "      <td>wa</td>\n",
       "      <td>men</td>\n",
       "      <td>8</td>\n",
       "      <td>20000</td>\n",
       "    </tr>\n",
       "    <tr>\n",
       "      <th>2</th>\n",
       "      <td>2020-10-01</td>\n",
       "      <td>morning</td>\n",
       "      <td>wa</td>\n",
       "      <td>women</td>\n",
       "      <td>4</td>\n",
       "      <td>10000</td>\n",
       "    </tr>\n",
       "    <tr>\n",
       "      <th>3</th>\n",
       "      <td>2020-10-01</td>\n",
       "      <td>morning</td>\n",
       "      <td>wa</td>\n",
       "      <td>seniors</td>\n",
       "      <td>15</td>\n",
       "      <td>37500</td>\n",
       "    </tr>\n",
       "    <tr>\n",
       "      <th>4</th>\n",
       "      <td>2020-10-01</td>\n",
       "      <td>afternoon</td>\n",
       "      <td>wa</td>\n",
       "      <td>kids</td>\n",
       "      <td>3</td>\n",
       "      <td>7500</td>\n",
       "    </tr>\n",
       "  </tbody>\n",
       "</table>\n",
       "</div>"
      ],
      "text/plain": [
       "    OrderDate   OrderTime Region CustomerGroup  Quantity  SalesAmount\n",
       "0  2020-10-01     morning     wa          kids         8        20000\n",
       "1  2020-10-01     morning     wa           men         8        20000\n",
       "2  2020-10-01     morning     wa         women         4        10000\n",
       "3  2020-10-01     morning     wa       seniors        15        37500\n",
       "4  2020-10-01   afternoon     wa          kids         3         7500"
      ]
     },
     "execution_count": 6,
     "metadata": {},
     "output_type": "execute_result"
    }
   ],
   "source": [
    "import pandas as pd\n",
    "from sklearn.preprocessing import LabelEncoder\n",
    "df['Region'] = df['Region'].str.lower()\n",
    "df['CustomerGroup'] = df['CustomerGroup'].str.lower()\n",
    "df['OrderTime'] = df['OrderTime'].str.lower()\n",
    "df.head()"
   ]
  },
  {
   "cell_type": "markdown",
   "metadata": {
    "id": "6t0jKbrF7hFC"
   },
   "source": [
    "#### 2. Encoding\n",
    "No need !\n",
    "This Data is not going to be feed into an AI model ,if its going to be feed to an AI model ,then we will need to encode it .\n",
    "#### 2. Missing\n",
    "Alrady checked for this is step 2(Invalid entries)\n",
    "### 1. Numeric data cleaning:\n",
    "#### 1. Missing\n",
    "Alrady checked for this is step 2(Invalid entries)\n",
    "#### 2. Check Logical values\n"
   ]
  },
  {
   "cell_type": "code",
   "execution_count": 7,
   "metadata": {
    "colab": {
     "base_uri": "https://localhost:8080/",
     "height": 53
    },
    "id": "Cg5uYZ9b7hFD",
    "outputId": "3226fae3-cb14-414b-d32e-0fa8983bc02b"
   },
   "outputs": [
    {
     "data": {
      "text/html": [
       "<div>\n",
       "<style scoped>\n",
       "    .dataframe tbody tr th:only-of-type {\n",
       "        vertical-align: middle;\n",
       "    }\n",
       "\n",
       "    .dataframe tbody tr th {\n",
       "        vertical-align: top;\n",
       "    }\n",
       "\n",
       "    .dataframe thead th {\n",
       "        text-align: right;\n",
       "    }\n",
       "</style>\n",
       "<table border=\"1\" class=\"dataframe\">\n",
       "  <thead>\n",
       "    <tr style=\"text-align: right;\">\n",
       "      <th></th>\n",
       "      <th>OrderDate</th>\n",
       "      <th>OrderTime</th>\n",
       "      <th>Region</th>\n",
       "      <th>CustomerGroup</th>\n",
       "      <th>Quantity</th>\n",
       "      <th>SalesAmount</th>\n",
       "    </tr>\n",
       "  </thead>\n",
       "  <tbody>\n",
       "  </tbody>\n",
       "</table>\n",
       "</div>"
      ],
      "text/plain": [
       "Empty DataFrame\n",
       "Columns: [OrderDate, OrderTime, Region, CustomerGroup, Quantity, SalesAmount]\n",
       "Index: []"
      ]
     },
     "execution_count": 7,
     "metadata": {},
     "output_type": "execute_result"
    }
   ],
   "source": [
    "df[(df['SalesAmount'] < 0)]"
   ]
  },
  {
   "cell_type": "code",
   "execution_count": 8,
   "metadata": {
    "colab": {
     "base_uri": "https://localhost:8080/",
     "height": 53
    },
    "id": "58EdOG4B7hFD",
    "outputId": "d47ee366-3e39-402e-c69f-cd39e1553d1e"
   },
   "outputs": [
    {
     "data": {
      "text/html": [
       "<div>\n",
       "<style scoped>\n",
       "    .dataframe tbody tr th:only-of-type {\n",
       "        vertical-align: middle;\n",
       "    }\n",
       "\n",
       "    .dataframe tbody tr th {\n",
       "        vertical-align: top;\n",
       "    }\n",
       "\n",
       "    .dataframe thead th {\n",
       "        text-align: right;\n",
       "    }\n",
       "</style>\n",
       "<table border=\"1\" class=\"dataframe\">\n",
       "  <thead>\n",
       "    <tr style=\"text-align: right;\">\n",
       "      <th></th>\n",
       "      <th>OrderDate</th>\n",
       "      <th>OrderTime</th>\n",
       "      <th>Region</th>\n",
       "      <th>CustomerGroup</th>\n",
       "      <th>Quantity</th>\n",
       "      <th>SalesAmount</th>\n",
       "    </tr>\n",
       "  </thead>\n",
       "  <tbody>\n",
       "  </tbody>\n",
       "</table>\n",
       "</div>"
      ],
      "text/plain": [
       "Empty DataFrame\n",
       "Columns: [OrderDate, OrderTime, Region, CustomerGroup, Quantity, SalesAmount]\n",
       "Index: []"
      ]
     },
     "execution_count": 8,
     "metadata": {},
     "output_type": "execute_result"
    }
   ],
   "source": [
    "df[df['Quantity']<0]"
   ]
  },
  {
   "cell_type": "markdown",
   "metadata": {
    "id": "ATtPOEr97hFD"
   },
   "source": [
    "#### 3. Normalization"
   ]
  },
  {
   "cell_type": "code",
   "execution_count": 9,
   "metadata": {
    "id": "RTA-IEzK7hFD"
   },
   "outputs": [],
   "source": [
    "minQ=df['Quantity'].min()\n",
    "maxQ=df['Quantity'].max()\n",
    "df['normalized_Quantity'] = (df['Quantity'] - minQ) / (maxQ - minQ)\n",
    "minS=df['SalesAmount'].min()\n",
    "maxS=df['SalesAmount'].max()\n",
    "df['normalized_SalesAmount'] = (df['SalesAmount'] - minS) / (maxS - minS)"
   ]
  },
  {
   "cell_type": "code",
   "execution_count": 10,
   "metadata": {
    "colab": {
     "base_uri": "https://localhost:8080/",
     "height": 206
    },
    "id": "gCaiDY0o7hFD",
    "outputId": "72045770-97b5-4996-d609-6305e06b1b90"
   },
   "outputs": [
    {
     "data": {
      "text/html": [
       "<div>\n",
       "<style scoped>\n",
       "    .dataframe tbody tr th:only-of-type {\n",
       "        vertical-align: middle;\n",
       "    }\n",
       "\n",
       "    .dataframe tbody tr th {\n",
       "        vertical-align: top;\n",
       "    }\n",
       "\n",
       "    .dataframe thead th {\n",
       "        text-align: right;\n",
       "    }\n",
       "</style>\n",
       "<table border=\"1\" class=\"dataframe\">\n",
       "  <thead>\n",
       "    <tr style=\"text-align: right;\">\n",
       "      <th></th>\n",
       "      <th>OrderDate</th>\n",
       "      <th>OrderTime</th>\n",
       "      <th>Region</th>\n",
       "      <th>CustomerGroup</th>\n",
       "      <th>Quantity</th>\n",
       "      <th>SalesAmount</th>\n",
       "      <th>normalized_Quantity</th>\n",
       "      <th>normalized_SalesAmount</th>\n",
       "    </tr>\n",
       "  </thead>\n",
       "  <tbody>\n",
       "    <tr>\n",
       "      <th>0</th>\n",
       "      <td>2020-10-01</td>\n",
       "      <td>morning</td>\n",
       "      <td>wa</td>\n",
       "      <td>kids</td>\n",
       "      <td>8</td>\n",
       "      <td>20000</td>\n",
       "      <td>0.095238</td>\n",
       "      <td>0.095238</td>\n",
       "    </tr>\n",
       "    <tr>\n",
       "      <th>1</th>\n",
       "      <td>2020-10-01</td>\n",
       "      <td>morning</td>\n",
       "      <td>wa</td>\n",
       "      <td>men</td>\n",
       "      <td>8</td>\n",
       "      <td>20000</td>\n",
       "      <td>0.095238</td>\n",
       "      <td>0.095238</td>\n",
       "    </tr>\n",
       "    <tr>\n",
       "      <th>2</th>\n",
       "      <td>2020-10-01</td>\n",
       "      <td>morning</td>\n",
       "      <td>wa</td>\n",
       "      <td>women</td>\n",
       "      <td>4</td>\n",
       "      <td>10000</td>\n",
       "      <td>0.031746</td>\n",
       "      <td>0.031746</td>\n",
       "    </tr>\n",
       "    <tr>\n",
       "      <th>3</th>\n",
       "      <td>2020-10-01</td>\n",
       "      <td>morning</td>\n",
       "      <td>wa</td>\n",
       "      <td>seniors</td>\n",
       "      <td>15</td>\n",
       "      <td>37500</td>\n",
       "      <td>0.206349</td>\n",
       "      <td>0.206349</td>\n",
       "    </tr>\n",
       "    <tr>\n",
       "      <th>4</th>\n",
       "      <td>2020-10-01</td>\n",
       "      <td>afternoon</td>\n",
       "      <td>wa</td>\n",
       "      <td>kids</td>\n",
       "      <td>3</td>\n",
       "      <td>7500</td>\n",
       "      <td>0.015873</td>\n",
       "      <td>0.015873</td>\n",
       "    </tr>\n",
       "  </tbody>\n",
       "</table>\n",
       "</div>"
      ],
      "text/plain": [
       "    OrderDate   OrderTime Region CustomerGroup  Quantity  SalesAmount  \\\n",
       "0  2020-10-01     morning     wa          kids         8        20000   \n",
       "1  2020-10-01     morning     wa           men         8        20000   \n",
       "2  2020-10-01     morning     wa         women         4        10000   \n",
       "3  2020-10-01     morning     wa       seniors        15        37500   \n",
       "4  2020-10-01   afternoon     wa          kids         3         7500   \n",
       "\n",
       "   normalized_Quantity  normalized_SalesAmount  \n",
       "0             0.095238                0.095238  \n",
       "1             0.095238                0.095238  \n",
       "2             0.031746                0.031746  \n",
       "3             0.206349                0.206349  \n",
       "4             0.015873                0.015873  "
      ]
     },
     "execution_count": 10,
     "metadata": {},
     "output_type": "execute_result"
    }
   ],
   "source": [
    "df.head()"
   ]
  },
  {
   "cell_type": "markdown",
   "metadata": {
    "id": "4NmuUHIE7hFE"
   },
   "source": [
    "### 2. Data Analysis\n",
    "#### 1-descriptive statistical analysis"
   ]
  },
  {
   "cell_type": "code",
   "execution_count": 11,
   "metadata": {
    "colab": {
     "base_uri": "https://localhost:8080/"
    },
    "id": "EDO8eHGcsJOA",
    "outputId": "42170797-9f7f-491c-eced-b830dbb8685c"
   },
   "outputs": [
    {
     "name": "stdout",
     "output_type": "stream",
     "text": [
      "SalesAmount mean =  45013.5582010582\n",
      "SalesAmount median = 35000.0\n",
      "SalesAmount mood =  [22500]\n",
      "SalesAmount range =  157500\n",
      "SalesAmount quantile 1 =  20000.0\n",
      "SalesAmount quantile 2 =  35000.0\n",
      "SalesAmount quantile 3 =  65000.0\n",
      "SalesAmount STD =  32253.506943966317\n"
     ]
    },
    {
     "name": "stderr",
     "output_type": "stream",
     "text": [
      "C:\\Users\\abubakr\\AppData\\Local\\Temp\\ipykernel_28680\\10430169.py:4: FutureWarning: Unlike other reduction functions (e.g. `skew`, `kurtosis`), the default behavior of `mode` typically preserves the axis it acts along. In SciPy 1.11.0, this behavior will change: the default value of `keepdims` will become False, the `axis` over which the statistic is taken will be eliminated, and the value None will no longer be accepted. Set `keepdims` to True or False to avoid this warning.\n",
      "  print ('SalesAmount mood = ',stats.mode(df['SalesAmount'])[0])\n"
     ]
    }
   ],
   "source": [
    "from scipy import stats\n",
    "print('SalesAmount mean = ',df['SalesAmount'].mean())\n",
    "print ('SalesAmount median =', df['SalesAmount'].median())\n",
    "print ('SalesAmount mood = ',stats.mode(df['SalesAmount'])[0])\n",
    "print('SalesAmount range = ', maxS - minS)\n",
    "print ('SalesAmount quantile 1 = ',df['SalesAmount'].quantile(0.25))\n",
    "print ('SalesAmount quantile 2 = ',df['SalesAmount'].median())\n",
    "print ('SalesAmount quantile 3 = ',df['SalesAmount'].quantile(0.75))\n",
    "print ('SalesAmount STD = ',df['SalesAmount'].std())"
   ]
  },
  {
   "cell_type": "code",
   "execution_count": 12,
   "metadata": {
    "colab": {
     "base_uri": "https://localhost:8080/"
    },
    "id": "Mq2GNG1G7hFE",
    "outputId": "c83dc70e-c8cf-45e2-a523-587125bb90d7"
   },
   "outputs": [
    {
     "name": "stdout",
     "output_type": "stream",
     "text": [
      "Quantity mean =  18.00542328042328\n",
      "Quantity median = 14.0\n",
      "Quantity mood =  [9]\n",
      "Quantity range =  63\n",
      "Quantity quantile 1 =  8.0\n",
      "Quantity quantile 2 =  14.0\n",
      "Quantity quantile 3 =  26.0\n",
      "Quantity STD =  12.901402777586458\n"
     ]
    },
    {
     "name": "stderr",
     "output_type": "stream",
     "text": [
      "C:\\Users\\abubakr\\AppData\\Local\\Temp\\ipykernel_28680\\1529018147.py:3: FutureWarning: Unlike other reduction functions (e.g. `skew`, `kurtosis`), the default behavior of `mode` typically preserves the axis it acts along. In SciPy 1.11.0, this behavior will change: the default value of `keepdims` will become False, the `axis` over which the statistic is taken will be eliminated, and the value None will no longer be accepted. Set `keepdims` to True or False to avoid this warning.\n",
      "  print ('Quantity mood = ',stats.mode(df['Quantity'])[0])\n"
     ]
    }
   ],
   "source": [
    "print('Quantity mean = ',df['Quantity'].mean())\n",
    "print ('Quantity median =', df['Quantity'].median())\n",
    "print ('Quantity mood = ',stats.mode(df['Quantity'])[0])\n",
    "print('Quantity range = ', maxQ - minQ)\n",
    "print ('Quantity quantile 1 = ',df['Quantity'].quantile(0.25))\n",
    "print ('Quantity quantile 2 = ',df['Quantity'].median())\n",
    "print ('Quantity quantile 3 = ',df['Quantity'].quantile(0.75))\n",
    "print ('Quantity STD = ',df['Quantity'].std())"
   ]
  },
  {
   "cell_type": "markdown",
   "metadata": {
    "id": "2L6rnMh37hFE"
   },
   "source": [
    "#### 1. Identify the groups and states that are generating the highest and lowest sales."
   ]
  },
  {
   "cell_type": "code",
   "execution_count": 13,
   "metadata": {
    "colab": {
     "base_uri": "https://localhost:8080/"
    },
    "id": "nJncOln_tUrO",
    "outputId": "00de0f09-8f55-4c33-c37c-e904ecf7aa5d"
   },
   "outputs": [
    {
     "name": "stdout",
     "output_type": "stream",
     "text": [
      "Group with Highest Sales:  men\n",
      "Group with Lowest Sales:  seniors\n",
      "State with Highest Sales:  vic\n",
      "State with Lowest Sales:  wa\n"
     ]
    }
   ],
   "source": [
    "print(\"Group with Highest Sales:\", df.groupby('CustomerGroup')['SalesAmount'].sum().idxmax())\n",
    "print(\"Group with Lowest Sales:\",df.groupby('CustomerGroup')['SalesAmount'].sum().idxmin())\n",
    "print(\"State with Highest Sales:\",df.groupby('Region')['SalesAmount'].sum().idxmax())\n",
    "print(\"State with Lowest Sales:\", df.groupby('Region')['SalesAmount'].sum().idxmin())"
   ]
  },
  {
   "cell_type": "markdown",
   "metadata": {
    "id": "94SbLp4W7hFE"
   },
   "source": [
    "#### 1. Generate weekly, monthly, and quarterly reports for the analysis made."
   ]
  },
  {
   "cell_type": "code",
   "execution_count": 14,
   "metadata": {
    "colab": {
     "base_uri": "https://localhost:8080/"
    },
    "id": "COJtx1hS7hFF",
    "outputId": "f2e933e2-c00a-4ee6-c83f-da1fae22e219"
   },
   "outputs": [
    {
     "name": "stdout",
     "output_type": "stream",
     "text": [
      "daily report :\n",
      " OrderDate\n",
      "2020-10-01    44285.714286\n",
      "2020-10-02    44226.190476\n",
      "2020-10-03    46309.523810\n",
      "2020-10-04    44285.714286\n",
      "2020-10-05    45982.142857\n",
      "                  ...     \n",
      "2020-12-26    56130.952381\n",
      "2020-12-27    55208.333333\n",
      "2020-12-28    54702.380952\n",
      "2020-12-29    54851.190476\n",
      "2020-12-30    54642.857143\n",
      "Freq: D, Name: SalesAmount, Length: 91, dtype: float64\n"
     ]
    }
   ],
   "source": [
    "df['OrderDate'] = pd.to_datetime(df['OrderDate'])\n",
    "temp = df.set_index('OrderDate', inplace=False) # Change the indexing to be by date\n",
    "print ('daily report :\\n', temp.resample('d').mean(numeric_only=True)['SalesAmount'])"
   ]
  },
  {
   "cell_type": "code",
   "execution_count": 15,
   "metadata": {
    "colab": {
     "base_uri": "https://localhost:8080/"
    },
    "id": "uhq6qBOS7hFF",
    "outputId": "baeb0b79-b678-464f-8c77-676aa4a27e1d"
   },
   "outputs": [
    {
     "name": "stdout",
     "output_type": "stream",
     "text": [
      "weekly report :\n",
      " OrderDate\n",
      "2020-10-04    44776.785714\n",
      "2020-10-11    45922.619048\n",
      "2020-10-18    45306.122449\n",
      "2020-10-25    45603.741497\n",
      "2020-11-01    43268.849206\n",
      "2020-11-08    35484.693878\n",
      "2020-11-15    36007.653061\n",
      "2020-11-22    35905.612245\n",
      "2020-11-29    36526.360544\n",
      "2020-12-06    50378.401361\n",
      "2020-12-13    53613.945578\n",
      "2020-12-20    53835.034014\n",
      "2020-12-27    54030.612245\n",
      "2021-01-03    54732.142857\n",
      "Freq: W-SUN, Name: SalesAmount, dtype: float64\n"
     ]
    }
   ],
   "source": [
    "print ('weekly report :\\n', temp.resample('w').mean(numeric_only=True)['SalesAmount'])\n"
   ]
  },
  {
   "cell_type": "code",
   "execution_count": 16,
   "metadata": {
    "colab": {
     "base_uri": "https://localhost:8080/"
    },
    "id": "3GN6jd807hFF",
    "outputId": "a31d463f-3e67-4e1b-c9fa-8907d420e50e"
   },
   "outputs": [
    {
     "name": "stdout",
     "output_type": "stream",
     "text": [
      "monthly report : \n",
      " OrderDate\n",
      "2020-10-31    45353.174603\n",
      "2020-11-30    35985.119048\n",
      "2020-12-31    53702.380952\n",
      "Freq: M, Name: SalesAmount, dtype: float64\n"
     ]
    }
   ],
   "source": [
    "print ('monthly report : \\n', temp.resample('m').mean(numeric_only=True)['SalesAmount'])"
   ]
  },
  {
   "cell_type": "markdown",
   "metadata": {
    "id": "haWqUVD07hFF"
   },
   "source": [
    "#### 3. Data Visualization\n",
    "### 1. State-wise sales analysis for different groups (kids, women, men, and seniors)\n",
    "### 1. Group-wise sales analysis (kids, women, men, and seniors) across different states\n",
    "### 1. Time-of-the-day analysis: during which time of the day are sales the highest, and during which time are sales the lowest?  "
   ]
  },
  {
   "cell_type": "code",
   "execution_count": 87,
   "metadata": {
    "id": "_8xuU2oo7hFF",
    "tags": []
   },
   "outputs": [],
   "source": [
    "df['day'] = df['OrderDate'].dt.day\n",
    "df['year'] = df['OrderDate'].dt.year\n",
    "df['month'] = df['OrderDate'].dt.month\n"
   ]
  },
  {
   "cell_type": "code",
   "execution_count": 67,
   "metadata": {
    "colab": {
     "base_uri": "https://localhost:8080/",
     "height": 1000
    },
    "id": "OzBRZ1RJvN8P",
    "outputId": "0b24914d-3caa-410e-b1ee-e1c539e250e9",
    "tags": []
   },
   "outputs": [
    {
     "data": {
      "image/png": "[encoded data removed]",
      "text/plain": [
       "<Figure size 640x480 with 1 Axes>"
      ]
     },
     "metadata": {},
     "output_type": "display_data"
    }
   ],
   "source": [
    "import pandas as pd\n",
    "import matplotlib.pyplot as plt\n",
    "import seaborn as sns\n",
    "\n",
    "#1 \n",
    "sns.barplot(data=df, x='CustomerGroup' ,  y = \"SalesAmount\")\n",
    "plt.show()"
   ]
  },
  {
   "cell_type": "code",
   "execution_count": 70,
   "metadata": {
    "tags": []
   },
   "outputs": [
    {
     "data": {
      "image/png": "[encoded data removed]",
      "text/plain": [
       "<Figure size 640x480 with 1 Axes>"
      ]
     },
     "metadata": {},
     "output_type": "display_data"
    }
   ],
   "source": [
    "\n",
    "sns.barplot(data=df, x='Region' ,  y = \"SalesAmount\", hue=\"CustomerGroup\")\n",
    "plt.title(\"State-wise Sales Analysis by Group\")\n",
    "plt.xlabel(\"Region\")\n",
    "plt.ylabel(\"Total Sales\")\n",
    "plt.show()\n"
   ]
  },
  {
   "cell_type": "code",
   "execution_count": 79,
   "metadata": {
    "tags": []
   },
   "outputs": [
    {
     "data": {
      "image/png": "[encoded data removed]",
      "text/plain": [
       "<Figure size 640x480 with 1 Axes>"
      ]
     },
     "metadata": {},
     "output_type": "display_data"
    }
   ],
   "source": [
    "sns.barplot(data=df, x='OrderTime' ,  y = \"SalesAmount\")\n",
    "plt.title(\"State-wise Sales Analysis by Group\")\n",
    "plt.xlabel(\"Time\")\n",
    "plt.ylabel(\"Mean Sales\")\n",
    "plt.yscale('log')\n",
    "plt.show()\n"
   ]
  },
  {
   "cell_type": "code",
   "execution_count": 86,
   "metadata": {
    "tags": []
   },
   "outputs": [
    {
     "data": {
      "image/png": "[encoded data removed]",
      "text/plain": [
       "<Figure size 1500x1500 with 3 Axes>"
      ]
     },
     "metadata": {},
     "output_type": "display_data"
    }
   ],
   "source": [
    "\n",
    "plt.figure(figsize=(15,15))\n",
    "plt.subplot(3,1,1)\n",
    "plt.title('sales on days of the month')\n",
    "sns.barplot(data=df,x='day',y='SalesAmount',color='steelblue')\n",
    "plt.yscale('log')\n",
    "\n",
    "plt.subplot(3,1,2)\n",
    "plt.title('sales on month of the year')\n",
    "sns.barplot(data=df,x='month',y='SalesAmount',color='steelblue')\n",
    "\n",
    "plt.subplot(3,1,3)\n",
    "plt.title('sales on the year')\n",
    "sns.barplot(data=df,x='year',y='SalesAmount',color='steelblue')\n",
    "plt.tight_layout()\n",
    "plt.show()"
   ]
  }
 ],
 "metadata": {
  "colab": {
   "provenance": []
  },
  "kernelspec": {
   "display_name": "Python 3 (ipykernel)",
   "language": "python",
   "name": "python3"
  },
  "language_info": {
   "codemirror_mode": {
    "name": "ipython",
    "version": 3
   },
   "file_extension": ".py",
   "mimetype": "text/x-python",
   "name": "python",
   "nbconvert_exporter": "python",
   "pygments_lexer": "ipython3",
   "version": "3.11.3"
  }
 },
 "nbformat": 4,
 "nbformat_minor": 4
}
